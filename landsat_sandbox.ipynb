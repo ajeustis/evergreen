{
 "cells": [
  {
   "cell_type": "code",
   "execution_count": 1,
   "id": "a4c1c1b7",
   "metadata": {},
   "outputs": [
    {
     "data": {
      "application/javascript": [
       "\n",
       "            setTimeout(function() {\n",
       "                var nbb_cell_id = 1;\n",
       "                var nbb_unformatted_code = \"%load_ext nb_black\";\n",
       "                var nbb_formatted_code = \"%load_ext nb_black\";\n",
       "                var nbb_cells = Jupyter.notebook.get_cells();\n",
       "                for (var i = 0; i < nbb_cells.length; ++i) {\n",
       "                    if (nbb_cells[i].input_prompt_number == nbb_cell_id) {\n",
       "                        if (nbb_cells[i].get_text() == nbb_unformatted_code) {\n",
       "                             nbb_cells[i].set_text(nbb_formatted_code);\n",
       "                        }\n",
       "                        break;\n",
       "                    }\n",
       "                }\n",
       "            }, 500);\n",
       "            "
      ],
      "text/plain": [
       "<IPython.core.display.Javascript object>"
      ]
     },
     "metadata": {},
     "output_type": "display_data"
    }
   ],
   "source": [
    "%load_ext nb_black"
   ]
  },
  {
   "cell_type": "code",
   "execution_count": 2,
   "id": "3bf668fe",
   "metadata": {},
   "outputs": [
    {
     "data": {
      "application/javascript": [
       "\n",
       "            setTimeout(function() {\n",
       "                var nbb_cell_id = 2;\n",
       "                var nbb_unformatted_code = \"import glob\\nimport logging\\nimport os\\nimport re\\n\\nimport dask.array as da\\nimport dask.dataframe as dd\\nimport ipywidgets as widgets\\nimport matplotlib.pyplot as plt\\nimport numpy as np\\nimport pandas as pd\\nimport rioxarray as rxr\\nimport seaborn as sns\\nimport xarray as xr\\nfrom ipywidgets import IntSlider, interact\\nfrom scipy import stats\";\n",
       "                var nbb_formatted_code = \"import glob\\nimport logging\\nimport os\\nimport re\\n\\nimport dask.array as da\\nimport dask.dataframe as dd\\nimport ipywidgets as widgets\\nimport matplotlib.pyplot as plt\\nimport numpy as np\\nimport pandas as pd\\nimport rioxarray as rxr\\nimport seaborn as sns\\nimport xarray as xr\\nfrom ipywidgets import IntSlider, interact\\nfrom scipy import stats\";\n",
       "                var nbb_cells = Jupyter.notebook.get_cells();\n",
       "                for (var i = 0; i < nbb_cells.length; ++i) {\n",
       "                    if (nbb_cells[i].input_prompt_number == nbb_cell_id) {\n",
       "                        if (nbb_cells[i].get_text() == nbb_unformatted_code) {\n",
       "                             nbb_cells[i].set_text(nbb_formatted_code);\n",
       "                        }\n",
       "                        break;\n",
       "                    }\n",
       "                }\n",
       "            }, 500);\n",
       "            "
      ],
      "text/plain": [
       "<IPython.core.display.Javascript object>"
      ]
     },
     "metadata": {},
     "output_type": "display_data"
    }
   ],
   "source": [
    "import glob\n",
    "import logging\n",
    "import os\n",
    "import re\n",
    "\n",
    "import dask.array as da\n",
    "import dask.dataframe as dd\n",
    "import ipywidgets as widgets\n",
    "import matplotlib.pyplot as plt\n",
    "import numpy as np\n",
    "import pandas as pd\n",
    "import rioxarray as rxr\n",
    "import seaborn as sns\n",
    "import xarray as xr\n",
    "from ipywidgets import IntSlider, interact\n",
    "from scipy import stats"
   ]
  },
  {
   "cell_type": "code",
   "execution_count": 3,
   "id": "542df91d",
   "metadata": {},
   "outputs": [
    {
     "data": {
      "application/javascript": [
       "\n",
       "            setTimeout(function() {\n",
       "                var nbb_cell_id = 3;\n",
       "                var nbb_unformatted_code = \"logging.getLogger().setLevel(logging.INFO)\";\n",
       "                var nbb_formatted_code = \"logging.getLogger().setLevel(logging.INFO)\";\n",
       "                var nbb_cells = Jupyter.notebook.get_cells();\n",
       "                for (var i = 0; i < nbb_cells.length; ++i) {\n",
       "                    if (nbb_cells[i].input_prompt_number == nbb_cell_id) {\n",
       "                        if (nbb_cells[i].get_text() == nbb_unformatted_code) {\n",
       "                             nbb_cells[i].set_text(nbb_formatted_code);\n",
       "                        }\n",
       "                        break;\n",
       "                    }\n",
       "                }\n",
       "            }, 500);\n",
       "            "
      ],
      "text/plain": [
       "<IPython.core.display.Javascript object>"
      ]
     },
     "metadata": {},
     "output_type": "display_data"
    }
   ],
   "source": [
    "logging.getLogger().setLevel(logging.INFO)"
   ]
  },
  {
   "cell_type": "code",
   "execution_count": 4,
   "id": "05e121c9",
   "metadata": {},
   "outputs": [
    {
     "data": {
      "application/javascript": [
       "\n",
       "            setTimeout(function() {\n",
       "                var nbb_cell_id = 4;\n",
       "                var nbb_unformatted_code = \"# util functions\\n# normally I would have a utils files but as this is a bit more exploratory space I \\n# haven't moved them to a separate file yet. \\ndef extract_numeric_part(file_path: str) -> int:\\n    \\\"\\\"\\\"\\n    This function extracts the numeric part of a file,\\n    i.e \\\"1234.tif\\\".\\n\\n    Parameters\\n    ----------\\n    file_path:str\\n        File path we want to extract numbers from.\\n\\n    Returns\\n    -------\\n    int\\n\\n    \\\"\\\"\\\"\\n    number = re.search(r\\\"\\\\d+\\\", os.path.basename(file_path))\\n    return int(number.group()) if number else None\\n\\ndef plot_ndvi(index:int):\\n    \\\"\\\"\\\"\\n    Function to plot NDVI data across observations.\\n    \\n    Parameters\\n    ----------\\n    index: int\\n        Slice we want to plot.\\n    \\n    Return\\n    ------\\n    \\n    \\\"\\\"\\\"\\n    ndvi_data = ndvi[index].compute()  # Compute the specific slice for visualization\\n    plt.figure(figsize=(10, 10))\\n    plt.imshow(ndvi_data, cmap=\\\"RdYlGn\\\")\\n    plt.title(f\\\"NDVI - Observation {index}\\\")\\n    plt.colorbar()\\n    plt.axis(\\\"off\\\")\\n    plt.show()\";\n",
       "                var nbb_formatted_code = \"# util functions\\n# normally I would have a utils files but as this is a bit more exploratory space I\\n# haven't moved them to a separate file yet.\\ndef extract_numeric_part(file_path: str) -> int:\\n    \\\"\\\"\\\"\\n    This function extracts the numeric part of a file,\\n    i.e \\\"1234.tif\\\".\\n\\n    Parameters\\n    ----------\\n    file_path:str\\n        File path we want to extract numbers from.\\n\\n    Returns\\n    -------\\n    int\\n\\n    \\\"\\\"\\\"\\n    number = re.search(r\\\"\\\\d+\\\", os.path.basename(file_path))\\n    return int(number.group()) if number else None\\n\\n\\ndef plot_ndvi(index: int):\\n    \\\"\\\"\\\"\\n    Function to plot NDVI data across observations.\\n\\n    Parameters\\n    ----------\\n    index: int\\n        Slice we want to plot.\\n\\n    Return\\n    ------\\n\\n    \\\"\\\"\\\"\\n    ndvi_data = ndvi[index].compute()  # Compute the specific slice for visualization\\n    plt.figure(figsize=(10, 10))\\n    plt.imshow(ndvi_data, cmap=\\\"RdYlGn\\\")\\n    plt.title(f\\\"NDVI - Observation {index}\\\")\\n    plt.colorbar()\\n    plt.axis(\\\"off\\\")\\n    plt.show()\";\n",
       "                var nbb_cells = Jupyter.notebook.get_cells();\n",
       "                for (var i = 0; i < nbb_cells.length; ++i) {\n",
       "                    if (nbb_cells[i].input_prompt_number == nbb_cell_id) {\n",
       "                        if (nbb_cells[i].get_text() == nbb_unformatted_code) {\n",
       "                             nbb_cells[i].set_text(nbb_formatted_code);\n",
       "                        }\n",
       "                        break;\n",
       "                    }\n",
       "                }\n",
       "            }, 500);\n",
       "            "
      ],
      "text/plain": [
       "<IPython.core.display.Javascript object>"
      ]
     },
     "metadata": {},
     "output_type": "display_data"
    }
   ],
   "source": [
    "# util functions\n",
    "# normally I would have a utils files but as this is a bit more exploratory space I \n",
    "# haven't moved them to a separate file yet. \n",
    "def extract_numeric_part(file_path: str) -> int:\n",
    "    \"\"\"\n",
    "    This function extracts the numeric part of a file,\n",
    "    i.e \"1234.tif\".\n",
    "\n",
    "    Parameters\n",
    "    ----------\n",
    "    file_path:str\n",
    "        File path we want to extract numbers from.\n",
    "\n",
    "    Returns\n",
    "    -------\n",
    "    int\n",
    "\n",
    "    \"\"\"\n",
    "    number = re.search(r\"\\d+\", os.path.basename(file_path))\n",
    "    return int(number.group()) if number else None\n",
    "\n",
    "def plot_ndvi(index:int):\n",
    "    \"\"\"\n",
    "    Function to plot NDVI data across observations.\n",
    "    \n",
    "    Parameters\n",
    "    ----------\n",
    "    index: int\n",
    "        Slice we want to plot.\n",
    "    \n",
    "    Return\n",
    "    ------\n",
    "    \n",
    "    \"\"\"\n",
    "    ndvi_data = ndvi[index].compute()  # Compute the specific slice for visualization\n",
    "    plt.figure(figsize=(10, 10))\n",
    "    plt.imshow(ndvi_data, cmap=\"RdYlGn\")\n",
    "    plt.title(f\"NDVI - Observation {index}\")\n",
    "    plt.colorbar()\n",
    "    plt.axis(\"off\")\n",
    "    plt.show()\n"
   ]
  },
  {
   "cell_type": "code",
   "execution_count": 5,
   "id": "c71a0fa9",
   "metadata": {},
   "outputs": [
    {
     "data": {
      "application/javascript": [
       "\n",
       "            setTimeout(function() {\n",
       "                var nbb_cell_id = 5;\n",
       "                var nbb_unformatted_code = \"# we are going to work with surface reflectance data instead of TOA\\n# so that we can deal with something that processed to account for environmental effects\\nLANDSAT_FILE_PATH = \\\"/mnt/landsat_data/Landsat_Surface_Reflectance/\\\"\";\n",
       "                var nbb_formatted_code = \"# we are going to work with surface reflectance data instead of TOA\\n# so that we can deal with something that processed to account for environmental effects\\nLANDSAT_FILE_PATH = \\\"/mnt/landsat_data/Landsat_Surface_Reflectance/\\\"\";\n",
       "                var nbb_cells = Jupyter.notebook.get_cells();\n",
       "                for (var i = 0; i < nbb_cells.length; ++i) {\n",
       "                    if (nbb_cells[i].input_prompt_number == nbb_cell_id) {\n",
       "                        if (nbb_cells[i].get_text() == nbb_unformatted_code) {\n",
       "                             nbb_cells[i].set_text(nbb_formatted_code);\n",
       "                        }\n",
       "                        break;\n",
       "                    }\n",
       "                }\n",
       "            }, 500);\n",
       "            "
      ],
      "text/plain": [
       "<IPython.core.display.Javascript object>"
      ]
     },
     "metadata": {},
     "output_type": "display_data"
    }
   ],
   "source": [
    "# we are going to work with surface reflectance data instead of TOA\n",
    "# so that we can deal with something that processed to account for environmental effects\n",
    "LANDSAT_FILE_PATH = \"/mnt/landsat_data/Landsat_Surface_Reflectance/\""
   ]
  },
  {
   "cell_type": "code",
   "execution_count": 6,
   "id": "e5973d79",
   "metadata": {},
   "outputs": [
    {
     "data": {
      "application/javascript": [
       "\n",
       "            setTimeout(function() {\n",
       "                var nbb_cell_id = 6;\n",
       "                var nbb_unformatted_code = \"surface_reflectance_files = glob.glob(os.path.join(LANDSAT_FILE_PATH, \\\"*.tif\\\"))\";\n",
       "                var nbb_formatted_code = \"surface_reflectance_files = glob.glob(os.path.join(LANDSAT_FILE_PATH, \\\"*.tif\\\"))\";\n",
       "                var nbb_cells = Jupyter.notebook.get_cells();\n",
       "                for (var i = 0; i < nbb_cells.length; ++i) {\n",
       "                    if (nbb_cells[i].input_prompt_number == nbb_cell_id) {\n",
       "                        if (nbb_cells[i].get_text() == nbb_unformatted_code) {\n",
       "                             nbb_cells[i].set_text(nbb_formatted_code);\n",
       "                        }\n",
       "                        break;\n",
       "                    }\n",
       "                }\n",
       "            }, 500);\n",
       "            "
      ],
      "text/plain": [
       "<IPython.core.display.Javascript object>"
      ]
     },
     "metadata": {},
     "output_type": "display_data"
    }
   ],
   "source": [
    "surface_reflectance_files = glob.glob(os.path.join(LANDSAT_FILE_PATH, \"*.tif\"))"
   ]
  },
  {
   "cell_type": "code",
   "execution_count": 7,
   "id": "183e5f07",
   "metadata": {},
   "outputs": [
    {
     "data": {
      "application/javascript": [
       "\n",
       "            setTimeout(function() {\n",
       "                var nbb_cell_id = 7;\n",
       "                var nbb_unformatted_code = \"# these tif files are a mess, they are not in order and there are duplicates as suggested\\n# by artifacts like (1)... lets clean this up and sort them properly.\\n\\n# remove (1) or other cases with parenthesis as this indicates a duplicate\\ncleaned_surface_reflectance_files = [\\n    re.sub(r\\\"\\\\(\\\\d+\\\\)\\\", \\\"\\\", file) for file in surface_reflectance_files\\n]\\n\\n# Sort the remaining files based on the numeric part\\nsorted_surface_reflectance_files = sorted(\\n    list(set(cleaned_surface_reflectance_files)), key=extract_numeric_part\\n)\";\n",
       "                var nbb_formatted_code = \"# these tif files are a mess, they are not in order and there are duplicates as suggested\\n# by artifacts like (1)... lets clean this up and sort them properly.\\n\\n# remove (1) or other cases with parenthesis as this indicates a duplicate\\ncleaned_surface_reflectance_files = [\\n    re.sub(r\\\"\\\\(\\\\d+\\\\)\\\", \\\"\\\", file) for file in surface_reflectance_files\\n]\\n\\n# Sort the remaining files based on the numeric part\\nsorted_surface_reflectance_files = sorted(\\n    list(set(cleaned_surface_reflectance_files)), key=extract_numeric_part\\n)\";\n",
       "                var nbb_cells = Jupyter.notebook.get_cells();\n",
       "                for (var i = 0; i < nbb_cells.length; ++i) {\n",
       "                    if (nbb_cells[i].input_prompt_number == nbb_cell_id) {\n",
       "                        if (nbb_cells[i].get_text() == nbb_unformatted_code) {\n",
       "                             nbb_cells[i].set_text(nbb_formatted_code);\n",
       "                        }\n",
       "                        break;\n",
       "                    }\n",
       "                }\n",
       "            }, 500);\n",
       "            "
      ],
      "text/plain": [
       "<IPython.core.display.Javascript object>"
      ]
     },
     "metadata": {},
     "output_type": "display_data"
    }
   ],
   "source": [
    "# these tif files are a mess, they are not in order and there are duplicates as suggested\n",
    "# by artifacts like (1)... lets clean this up and sort them properly.\n",
    "\n",
    "# remove (1) or other cases with parenthesis as this indicates a duplicate\n",
    "cleaned_surface_reflectance_files = [\n",
    "    re.sub(r\"\\(\\d+\\)\", \"\", file) for file in surface_reflectance_files\n",
    "]\n",
    "\n",
    "# Sort the remaining files based on the numeric part\n",
    "sorted_surface_reflectance_files = sorted(\n",
    "    list(set(cleaned_surface_reflectance_files)), key=extract_numeric_part\n",
    ")"
   ]
  },
  {
   "cell_type": "code",
   "execution_count": 8,
   "id": "54ca5342",
   "metadata": {},
   "outputs": [
    {
     "data": {
      "application/javascript": [
       "\n",
       "            setTimeout(function() {\n",
       "                var nbb_cell_id = 8;\n",
       "                var nbb_unformatted_code = \"# lets store all of our tif files in an array\\ndata_arrays = [\\n    rxr.open_rasterio(file_path, masked=True).squeeze()\\n    for file_path in sorted_surface_reflectance_files\\n]\";\n",
       "                var nbb_formatted_code = \"# lets store all of our tif files in an array\\ndata_arrays = [\\n    rxr.open_rasterio(file_path, masked=True).squeeze()\\n    for file_path in sorted_surface_reflectance_files\\n]\";\n",
       "                var nbb_cells = Jupyter.notebook.get_cells();\n",
       "                for (var i = 0; i < nbb_cells.length; ++i) {\n",
       "                    if (nbb_cells[i].input_prompt_number == nbb_cell_id) {\n",
       "                        if (nbb_cells[i].get_text() == nbb_unformatted_code) {\n",
       "                             nbb_cells[i].set_text(nbb_formatted_code);\n",
       "                        }\n",
       "                        break;\n",
       "                    }\n",
       "                }\n",
       "            }, 500);\n",
       "            "
      ],
      "text/plain": [
       "<IPython.core.display.Javascript object>"
      ]
     },
     "metadata": {},
     "output_type": "display_data"
    }
   ],
   "source": [
    "# lets store all of our tif files in an array\n",
    "data_arrays = [\n",
    "    rxr.open_rasterio(file_path, masked=True).squeeze()\n",
    "    for file_path in sorted_surface_reflectance_files\n",
    "]"
   ]
  },
  {
   "cell_type": "code",
   "execution_count": 9,
   "id": "434a110b",
   "metadata": {},
   "outputs": [
    {
     "data": {
      "application/javascript": [
       "\n",
       "            setTimeout(function() {\n",
       "                var nbb_cell_id = 9;\n",
       "                var nbb_unformatted_code = \"# there are issues where the arrays are not the same shape, for simplicity and to enable\\n# exploration I am just going to chuck the arrays that don't have the same shape.\\n# obviously I would typically explore this further but as this is a sandbox I'm not going to jump\\n# into why this is happening (at least not yet...)\\nfiltered_data_arrays = [\\n    da for da in data_arrays if da.shape[2] == 32 and da.shape[1] == 32\\n]\";\n",
       "                var nbb_formatted_code = \"# there are issues where the arrays are not the same shape, for simplicity and to enable\\n# exploration I am just going to chuck the arrays that don't have the same shape.\\n# obviously I would typically explore this further but as this is a sandbox I'm not going to jump\\n# into why this is happening (at least not yet...)\\nfiltered_data_arrays = [\\n    da for da in data_arrays if da.shape[2] == 32 and da.shape[1] == 32\\n]\";\n",
       "                var nbb_cells = Jupyter.notebook.get_cells();\n",
       "                for (var i = 0; i < nbb_cells.length; ++i) {\n",
       "                    if (nbb_cells[i].input_prompt_number == nbb_cell_id) {\n",
       "                        if (nbb_cells[i].get_text() == nbb_unformatted_code) {\n",
       "                             nbb_cells[i].set_text(nbb_formatted_code);\n",
       "                        }\n",
       "                        break;\n",
       "                    }\n",
       "                }\n",
       "            }, 500);\n",
       "            "
      ],
      "text/plain": [
       "<IPython.core.display.Javascript object>"
      ]
     },
     "metadata": {},
     "output_type": "display_data"
    }
   ],
   "source": [
    "# there are issues where the arrays are not the same shape, for simplicity and to enable\n",
    "# exploration I am just going to chuck the arrays that don't have the same shape.\n",
    "# obviously I would typically explore this further but as this is a sandbox I'm not going to jump\n",
    "# into why this is happening (at least not yet...)\n",
    "filtered_data_arrays = [\n",
    "    da for da in data_arrays if da.shape[2] == 32 and da.shape[1] == 32\n",
    "]"
   ]
  },
  {
   "cell_type": "code",
   "execution_count": 10,
   "id": "8adaf771",
   "metadata": {},
   "outputs": [
    {
     "data": {
      "application/javascript": [
       "\n",
       "            setTimeout(function() {\n",
       "                var nbb_cell_id = 10;\n",
       "                var nbb_unformatted_code = \"# Convert list of xarray DataArrays to a dask array for parallel processing\\ndask_data = da.stack([da.data for da in filtered_data_arrays])\";\n",
       "                var nbb_formatted_code = \"# Convert list of xarray DataArrays to a dask array for parallel processing\\ndask_data = da.stack([da.data for da in filtered_data_arrays])\";\n",
       "                var nbb_cells = Jupyter.notebook.get_cells();\n",
       "                for (var i = 0; i < nbb_cells.length; ++i) {\n",
       "                    if (nbb_cells[i].input_prompt_number == nbb_cell_id) {\n",
       "                        if (nbb_cells[i].get_text() == nbb_unformatted_code) {\n",
       "                             nbb_cells[i].set_text(nbb_formatted_code);\n",
       "                        }\n",
       "                        break;\n",
       "                    }\n",
       "                }\n",
       "            }, 500);\n",
       "            "
      ],
      "text/plain": [
       "<IPython.core.display.Javascript object>"
      ]
     },
     "metadata": {},
     "output_type": "display_data"
    }
   ],
   "source": [
    "# Convert list of xarray DataArrays to a dask array for parallel processing\n",
    "dask_data = da.stack([da.data for da in filtered_data_arrays])"
   ]
  },
  {
   "cell_type": "code",
   "execution_count": 11,
   "id": "d3cbc455",
   "metadata": {},
   "outputs": [
    {
     "data": {
      "text/html": [
       "<table>\n",
       "    <tr>\n",
       "        <td>\n",
       "            <table style=\"border-collapse: collapse;\">\n",
       "                <thead>\n",
       "                    <tr>\n",
       "                        <td> </td>\n",
       "                        <th> Array </th>\n",
       "                        <th> Chunk </th>\n",
       "                    </tr>\n",
       "                </thead>\n",
       "                <tbody>\n",
       "                    \n",
       "                    <tr>\n",
       "                        <th> Bytes </th>\n",
       "                        <td> 597.87 MiB </td>\n",
       "                        <td> 44.00 kiB </td>\n",
       "                    </tr>\n",
       "                    \n",
       "                    <tr>\n",
       "                        <th> Shape </th>\n",
       "                        <td> (13914, 11, 32, 32) </td>\n",
       "                        <td> (1, 11, 32, 32) </td>\n",
       "                    </tr>\n",
       "                    <tr>\n",
       "                        <th> Dask graph </th>\n",
       "                        <td colspan=\"2\"> 13914 chunks in 13902 graph layers </td>\n",
       "                    </tr>\n",
       "                    <tr>\n",
       "                        <th> Data type </th>\n",
       "                        <td colspan=\"2\"> float32 numpy.ndarray </td>\n",
       "                    </tr>\n",
       "                </tbody>\n",
       "            </table>\n",
       "        </td>\n",
       "        <td>\n",
       "        <svg width=\"470\" height=\"90\" style=\"stroke:rgb(0,0,0);stroke-width:1\" >\n",
       "\n",
       "  <!-- Horizontal lines -->\n",
       "  <line x1=\"0\" y1=\"0\" x2=\"120\" y2=\"0\" style=\"stroke-width:2\" />\n",
       "  <line x1=\"0\" y1=\"25\" x2=\"120\" y2=\"25\" style=\"stroke-width:2\" />\n",
       "\n",
       "  <!-- Vertical lines -->\n",
       "  <line x1=\"0\" y1=\"0\" x2=\"0\" y2=\"25\" style=\"stroke-width:2\" />\n",
       "  <line x1=\"3\" y1=\"0\" x2=\"3\" y2=\"25\" />\n",
       "  <line x1=\"7\" y1=\"0\" x2=\"7\" y2=\"25\" />\n",
       "  <line x1=\"11\" y1=\"0\" x2=\"11\" y2=\"25\" />\n",
       "  <line x1=\"14\" y1=\"0\" x2=\"14\" y2=\"25\" />\n",
       "  <line x1=\"18\" y1=\"0\" x2=\"18\" y2=\"25\" />\n",
       "  <line x1=\"22\" y1=\"0\" x2=\"22\" y2=\"25\" />\n",
       "  <line x1=\"26\" y1=\"0\" x2=\"26\" y2=\"25\" />\n",
       "  <line x1=\"29\" y1=\"0\" x2=\"29\" y2=\"25\" />\n",
       "  <line x1=\"33\" y1=\"0\" x2=\"33\" y2=\"25\" />\n",
       "  <line x1=\"37\" y1=\"0\" x2=\"37\" y2=\"25\" />\n",
       "  <line x1=\"41\" y1=\"0\" x2=\"41\" y2=\"25\" />\n",
       "  <line x1=\"44\" y1=\"0\" x2=\"44\" y2=\"25\" />\n",
       "  <line x1=\"48\" y1=\"0\" x2=\"48\" y2=\"25\" />\n",
       "  <line x1=\"52\" y1=\"0\" x2=\"52\" y2=\"25\" />\n",
       "  <line x1=\"56\" y1=\"0\" x2=\"56\" y2=\"25\" />\n",
       "  <line x1=\"60\" y1=\"0\" x2=\"60\" y2=\"25\" />\n",
       "  <line x1=\"63\" y1=\"0\" x2=\"63\" y2=\"25\" />\n",
       "  <line x1=\"67\" y1=\"0\" x2=\"67\" y2=\"25\" />\n",
       "  <line x1=\"71\" y1=\"0\" x2=\"71\" y2=\"25\" />\n",
       "  <line x1=\"74\" y1=\"0\" x2=\"74\" y2=\"25\" />\n",
       "  <line x1=\"78\" y1=\"0\" x2=\"78\" y2=\"25\" />\n",
       "  <line x1=\"82\" y1=\"0\" x2=\"82\" y2=\"25\" />\n",
       "  <line x1=\"86\" y1=\"0\" x2=\"86\" y2=\"25\" />\n",
       "  <line x1=\"89\" y1=\"0\" x2=\"89\" y2=\"25\" />\n",
       "  <line x1=\"93\" y1=\"0\" x2=\"93\" y2=\"25\" />\n",
       "  <line x1=\"97\" y1=\"0\" x2=\"97\" y2=\"25\" />\n",
       "  <line x1=\"101\" y1=\"0\" x2=\"101\" y2=\"25\" />\n",
       "  <line x1=\"104\" y1=\"0\" x2=\"104\" y2=\"25\" />\n",
       "  <line x1=\"108\" y1=\"0\" x2=\"108\" y2=\"25\" />\n",
       "  <line x1=\"112\" y1=\"0\" x2=\"112\" y2=\"25\" />\n",
       "  <line x1=\"116\" y1=\"0\" x2=\"116\" y2=\"25\" />\n",
       "  <line x1=\"120\" y1=\"0\" x2=\"120\" y2=\"25\" style=\"stroke-width:2\" />\n",
       "\n",
       "  <!-- Colored Rectangle -->\n",
       "  <polygon points=\"0.0,0.0 120.0,0.0 120.0,25.412616514582485 0.0,25.412616514582485\" style=\"fill:#8B4903A0;stroke-width:0\"/>\n",
       "\n",
       "  <!-- Text -->\n",
       "  <text x=\"60.000000\" y=\"45.412617\" font-size=\"1.0rem\" font-weight=\"100\" text-anchor=\"middle\" >13914</text>\n",
       "  <text x=\"140.000000\" y=\"12.706308\" font-size=\"1.0rem\" font-weight=\"100\" text-anchor=\"middle\" transform=\"rotate(0,140.000000,12.706308)\">1</text>\n",
       "\n",
       "\n",
       "  <!-- Horizontal lines -->\n",
       "  <line x1=\"190\" y1=\"0\" x2=\"204\" y2=\"14\" style=\"stroke-width:2\" />\n",
       "  <line x1=\"190\" y1=\"25\" x2=\"204\" y2=\"40\" style=\"stroke-width:2\" />\n",
       "\n",
       "  <!-- Vertical lines -->\n",
       "  <line x1=\"190\" y1=\"0\" x2=\"190\" y2=\"25\" style=\"stroke-width:2\" />\n",
       "  <line x1=\"204\" y1=\"14\" x2=\"204\" y2=\"40\" style=\"stroke-width:2\" />\n",
       "\n",
       "  <!-- Colored Rectangle -->\n",
       "  <polygon points=\"190.0,0.0 204.9485979497544,14.948597949754403 204.9485979497544,40.36121446433689 190.0,25.412616514582485\" style=\"fill:#ECB172A0;stroke-width:0\"/>\n",
       "\n",
       "  <!-- Horizontal lines -->\n",
       "  <line x1=\"190\" y1=\"0\" x2=\"215\" y2=\"0\" style=\"stroke-width:2\" />\n",
       "  <line x1=\"204\" y1=\"14\" x2=\"230\" y2=\"14\" style=\"stroke-width:2\" />\n",
       "\n",
       "  <!-- Vertical lines -->\n",
       "  <line x1=\"190\" y1=\"0\" x2=\"204\" y2=\"14\" style=\"stroke-width:2\" />\n",
       "  <line x1=\"215\" y1=\"0\" x2=\"230\" y2=\"14\" style=\"stroke-width:2\" />\n",
       "\n",
       "  <!-- Colored Rectangle -->\n",
       "  <polygon points=\"190.0,0.0 215.41261651458248,0.0 230.36121446433688,14.948597949754403 204.9485979497544,14.948597949754403\" style=\"fill:#ECB172A0;stroke-width:0\"/>\n",
       "\n",
       "  <!-- Horizontal lines -->\n",
       "  <line x1=\"204\" y1=\"14\" x2=\"230\" y2=\"14\" style=\"stroke-width:2\" />\n",
       "  <line x1=\"204\" y1=\"40\" x2=\"230\" y2=\"40\" style=\"stroke-width:2\" />\n",
       "\n",
       "  <!-- Vertical lines -->\n",
       "  <line x1=\"204\" y1=\"14\" x2=\"204\" y2=\"40\" style=\"stroke-width:2\" />\n",
       "  <line x1=\"230\" y1=\"14\" x2=\"230\" y2=\"40\" style=\"stroke-width:2\" />\n",
       "\n",
       "  <!-- Colored Rectangle -->\n",
       "  <polygon points=\"204.9485979497544,14.948597949754403 230.36121446433688,14.948597949754403 230.36121446433688,40.36121446433689 204.9485979497544,40.36121446433689\" style=\"fill:#ECB172A0;stroke-width:0\"/>\n",
       "\n",
       "  <!-- Text -->\n",
       "  <text x=\"217.654906\" y=\"60.361214\" font-size=\"1.0rem\" font-weight=\"100\" text-anchor=\"middle\" >32</text>\n",
       "  <text x=\"250.361214\" y=\"27.654906\" font-size=\"1.0rem\" font-weight=\"100\" text-anchor=\"middle\" transform=\"rotate(0,250.361214,27.654906)\">32</text>\n",
       "  <text x=\"187.474299\" y=\"52.886915\" font-size=\"1.0rem\" font-weight=\"100\" text-anchor=\"middle\" transform=\"rotate(45,187.474299,52.886915)\">11</text>\n",
       "</svg>\n",
       "        </td>\n",
       "    </tr>\n",
       "</table>"
      ],
      "text/plain": [
       "dask.array<stack, shape=(13914, 11, 32, 32), dtype=float32, chunksize=(1, 11, 32, 32), chunktype=numpy.ndarray>"
      ]
     },
     "execution_count": 11,
     "metadata": {},
     "output_type": "execute_result"
    },
    {
     "data": {
      "application/javascript": [
       "\n",
       "            setTimeout(function() {\n",
       "                var nbb_cell_id = 11;\n",
       "                var nbb_unformatted_code = \"dask_data\";\n",
       "                var nbb_formatted_code = \"dask_data\";\n",
       "                var nbb_cells = Jupyter.notebook.get_cells();\n",
       "                for (var i = 0; i < nbb_cells.length; ++i) {\n",
       "                    if (nbb_cells[i].input_prompt_number == nbb_cell_id) {\n",
       "                        if (nbb_cells[i].get_text() == nbb_unformatted_code) {\n",
       "                             nbb_cells[i].set_text(nbb_formatted_code);\n",
       "                        }\n",
       "                        break;\n",
       "                    }\n",
       "                }\n",
       "            }, 500);\n",
       "            "
      ],
      "text/plain": [
       "<IPython.core.display.Javascript object>"
      ]
     },
     "metadata": {},
     "output_type": "display_data"
    }
   ],
   "source": [
    "dask_data"
   ]
  },
  {
   "cell_type": "code",
   "execution_count": 12,
   "id": "5ed6eae9",
   "metadata": {},
   "outputs": [
    {
     "data": {
      "image/png": "[encoded data removed]",
      "text/plain": [
       "<Figure size 2000x400 with 11 Axes>"
      ]
     },
     "metadata": {},
     "output_type": "display_data"
    },
    {
     "data": {
      "application/javascript": [
       "\n",
       "            setTimeout(function() {\n",
       "                var nbb_cell_id = 12;\n",
       "                var nbb_unformatted_code = \"# lets visualize the bands !!!!\\nobservation = dask_data[0].compute()\\n\\n# Plot each band for a single observation\\nfig, axes = plt.subplots(1, 11, figsize=(20, 4))\\nfor i, ax in enumerate(axes):\\n    ax.imshow(observation[i], cmap=\\\"viridis\\\")\\n    ax.set_title(f\\\"Band {i+1}\\\")\\n    ax.axis(\\\"off\\\")\\n\\nplt.tight_layout()\\nplt.show()\";\n",
       "                var nbb_formatted_code = \"# lets visualize the bands !!!!\\nobservation = dask_data[0].compute()\\n\\n# Plot each band for a single observation\\nfig, axes = plt.subplots(1, 11, figsize=(20, 4))\\nfor i, ax in enumerate(axes):\\n    ax.imshow(observation[i], cmap=\\\"viridis\\\")\\n    ax.set_title(f\\\"Band {i+1}\\\")\\n    ax.axis(\\\"off\\\")\\n\\nplt.tight_layout()\\nplt.show()\";\n",
       "                var nbb_cells = Jupyter.notebook.get_cells();\n",
       "                for (var i = 0; i < nbb_cells.length; ++i) {\n",
       "                    if (nbb_cells[i].input_prompt_number == nbb_cell_id) {\n",
       "                        if (nbb_cells[i].get_text() == nbb_unformatted_code) {\n",
       "                             nbb_cells[i].set_text(nbb_formatted_code);\n",
       "                        }\n",
       "                        break;\n",
       "                    }\n",
       "                }\n",
       "            }, 500);\n",
       "            "
      ],
      "text/plain": [
       "<IPython.core.display.Javascript object>"
      ]
     },
     "metadata": {},
     "output_type": "display_data"
    }
   ],
   "source": [
    "# lets visualize the bands !!!!\n",
    "observation = dask_data[0].compute()\n",
    "\n",
    "# Plot each band for a single observation\n",
    "fig, axes = plt.subplots(1, 11, figsize=(20, 4))\n",
    "for i, ax in enumerate(axes):\n",
    "    ax.imshow(observation[i], cmap=\"viridis\")\n",
    "    ax.set_title(f\"Band {i+1}\")\n",
    "    ax.axis(\"off\")\n",
    "\n",
    "plt.tight_layout()\n",
    "plt.show()"
   ]
  },
  {
   "cell_type": "code",
   "execution_count": 13,
   "id": "dc1b756f",
   "metadata": {},
   "outputs": [
    {
     "data": {
      "application/javascript": [
       "\n",
       "            setTimeout(function() {\n",
       "                var nbb_cell_id = 13;\n",
       "                var nbb_unformatted_code = \"# guide to bands:\\n# B1 - Coastal/Aerosol\\n# B2 - Blue (water body mapping, differentiating between vegetation and soil)\\n# B3 - Green (vegetation health)\\n# B4 - Red (discriminating between vegetation and soil)\\n# B5 - Near Infrared (NIR) (biomass, water bodies)\\n# B6 - Shortwave Infrared 1 (moisture content of soil and vegetation)\\n# B7 - Shortwave Infrared 2 (snow/ice, burnt areas)\\n# B8 - panchromatic (higer res)\\n# B9 - Cirrus (cloud properties)\\n# B10 - Thermal Infrared 1 (surface temp)\\n# B11 - Thermal Infrared 2 (surface temp)\";\n",
       "                var nbb_formatted_code = \"# guide to bands:\\n# B1 - Coastal/Aerosol\\n# B2 - Blue (water body mapping, differentiating between vegetation and soil)\\n# B3 - Green (vegetation health)\\n# B4 - Red (discriminating between vegetation and soil)\\n# B5 - Near Infrared (NIR) (biomass, water bodies)\\n# B6 - Shortwave Infrared 1 (moisture content of soil and vegetation)\\n# B7 - Shortwave Infrared 2 (snow/ice, burnt areas)\\n# B8 - panchromatic (higer res)\\n# B9 - Cirrus (cloud properties)\\n# B10 - Thermal Infrared 1 (surface temp)\\n# B11 - Thermal Infrared 2 (surface temp)\";\n",
       "                var nbb_cells = Jupyter.notebook.get_cells();\n",
       "                for (var i = 0; i < nbb_cells.length; ++i) {\n",
       "                    if (nbb_cells[i].input_prompt_number == nbb_cell_id) {\n",
       "                        if (nbb_cells[i].get_text() == nbb_unformatted_code) {\n",
       "                             nbb_cells[i].set_text(nbb_formatted_code);\n",
       "                        }\n",
       "                        break;\n",
       "                    }\n",
       "                }\n",
       "            }, 500);\n",
       "            "
      ],
      "text/plain": [
       "<IPython.core.display.Javascript object>"
      ]
     },
     "metadata": {},
     "output_type": "display_data"
    }
   ],
   "source": [
    "# guide to bands:\n",
    "# B1 - Coastal/Aerosol\n",
    "# B2 - Blue (water body mapping, differentiating between vegetation and soil)\n",
    "# B3 - Green (vegetation health)\n",
    "# B4 - Red (discriminating between vegetation and soil)\n",
    "# B5 - Near Infrared (NIR) (biomass, water bodies)\n",
    "# B6 - Shortwave Infrared 1 (moisture content of soil and vegetation)\n",
    "# B7 - Shortwave Infrared 2 (snow/ice, burnt areas)\n",
    "# B8 - panchromatic (higer res)\n",
    "# B9 - Cirrus (cloud properties)\n",
    "# B10 - Thermal Infrared 1 (surface temp)\n",
    "# B11 - Thermal Infrared 2 (surface temp)"
   ]
  },
  {
   "cell_type": "code",
   "execution_count": 14,
   "id": "cdce834c",
   "metadata": {},
   "outputs": [
    {
     "data": {
      "application/javascript": [
       "\n",
       "            setTimeout(function() {\n",
       "                var nbb_cell_id = 14;\n",
       "                var nbb_unformatted_code = \"# Courtesy of the internet, I was able to determine which bands\\n# we need for NDVI calculation as well as how you calculate NDVI\\n# I went with NDVI because I've worked with this index before (it's been a minute though)\\nnir_band = dask_data[:, 4, :, :]  # NIR band\\nred_band = dask_data[:, 3, :, :]  # Red band\\n\\n# NDVI calculation\\nndvi = (nir_band - red_band) / (nir_band + red_band)\";\n",
       "                var nbb_formatted_code = \"# Courtesy of the internet, I was able to determine which bands\\n# we need for NDVI calculation as well as how you calculate NDVI\\n# I went with NDVI because I've worked with this index before (it's been a minute though)\\nnir_band = dask_data[:, 4, :, :]  # NIR band\\nred_band = dask_data[:, 3, :, :]  # Red band\\n\\n# NDVI calculation\\nndvi = (nir_band - red_band) / (nir_band + red_band)\";\n",
       "                var nbb_cells = Jupyter.notebook.get_cells();\n",
       "                for (var i = 0; i < nbb_cells.length; ++i) {\n",
       "                    if (nbb_cells[i].input_prompt_number == nbb_cell_id) {\n",
       "                        if (nbb_cells[i].get_text() == nbb_unformatted_code) {\n",
       "                             nbb_cells[i].set_text(nbb_formatted_code);\n",
       "                        }\n",
       "                        break;\n",
       "                    }\n",
       "                }\n",
       "            }, 500);\n",
       "            "
      ],
      "text/plain": [
       "<IPython.core.display.Javascript object>"
      ]
     },
     "metadata": {},
     "output_type": "display_data"
    }
   ],
   "source": [
    "# Courtesy of the internet, I was able to determine which bands\n",
    "# we need for NDVI calculation as well as how you calculate NDVI\n",
    "# I went with NDVI because I've worked with this index before (it's been a minute though)\n",
    "nir_band = dask_data[:, 4, :, :]  # NIR band\n",
    "red_band = dask_data[:, 3, :, :]  # Red band\n",
    "\n",
    "# NDVI calculation\n",
    "ndvi = (nir_band - red_band) / (nir_band + red_band)"
   ]
  },
  {
   "cell_type": "code",
   "execution_count": 15,
   "id": "441fdf3b",
   "metadata": {},
   "outputs": [
    {
     "data": {
      "application/vnd.jupyter.widget-view+json": {
       "model_id": "d37c3919f3a54f2b9fc98831f46b59ee",
       "version_major": 2,
       "version_minor": 0
      },
      "text/plain": [
       "interactive(children=(IntSlider(value=6956, description='index', max=13913), Output()), _dom_classes=('widget-…"
      ]
     },
     "metadata": {},
     "output_type": "display_data"
    },
    {
     "data": {
      "text/plain": [
       "<function __main__.plot_ndvi(index: int)>"
      ]
     },
     "execution_count": 15,
     "metadata": {},
     "output_type": "execute_result"
    },
    {
     "data": {
      "application/javascript": [
       "\n",
       "            setTimeout(function() {\n",
       "                var nbb_cell_id = 15;\n",
       "                var nbb_unformatted_code = \"# Use interact to create the slider\\ninteract(plot_ndvi, index=(0, dask_data.shape[0] - 1))\";\n",
       "                var nbb_formatted_code = \"# Use interact to create the slider\\ninteract(plot_ndvi, index=(0, dask_data.shape[0] - 1))\";\n",
       "                var nbb_cells = Jupyter.notebook.get_cells();\n",
       "                for (var i = 0; i < nbb_cells.length; ++i) {\n",
       "                    if (nbb_cells[i].input_prompt_number == nbb_cell_id) {\n",
       "                        if (nbb_cells[i].get_text() == nbb_unformatted_code) {\n",
       "                             nbb_cells[i].set_text(nbb_formatted_code);\n",
       "                        }\n",
       "                        break;\n",
       "                    }\n",
       "                }\n",
       "            }, 500);\n",
       "            "
      ],
      "text/plain": [
       "<IPython.core.display.Javascript object>"
      ]
     },
     "metadata": {},
     "output_type": "display_data"
    }
   ],
   "source": [
    "# Use interact to create the slider\n",
    "interact(plot_ndvi, index=(0, dask_data.shape[0] - 1))"
   ]
  }
 ],
 "metadata": {
  "kernelspec": {
   "display_name": "Python 3 (ipykernel)",
   "language": "python",
   "name": "python3"
  },
  "language_info": {
   "codemirror_mode": {
    "name": "ipython",
    "version": 3
   },
   "file_extension": ".py",
   "mimetype": "text/x-python",
   "name": "python",
   "nbconvert_exporter": "python",
   "pygments_lexer": "ipython3",
   "version": "3.8.16"
  }
 },
 "nbformat": 4,
 "nbformat_minor": 5
}
